{
 "metadata": {
  "language_info": {
   "codemirror_mode": {
    "name": "ipython",
    "version": 3
   },
   "file_extension": ".py",
   "mimetype": "text/x-python",
   "name": "python",
   "nbconvert_exporter": "python",
   "pygments_lexer": "ipython3",
   "version": "3.8.5"
  },
  "orig_nbformat": 2,
  "kernelspec": {
   "name": "python3",
   "display_name": "Python 3.8.5 64-bit ('base': conda)",
   "metadata": {
    "interpreter": {
     "hash": "dca0ade3e726a953b501b15e8e990130d2b7799f14cfd9f4271676035ebe5511"
    }
   }
  }
 },
 "nbformat": 4,
 "nbformat_minor": 2,
 "cells": [
  {
   "source": [
    "#### install MLFlow\n",
    "!pip install mlflow"
   ],
   "cell_type": "markdown",
   "metadata": {}
  },
  {
   "source": [
    "### Libraries"
   ],
   "cell_type": "markdown",
   "metadata": {}
  },
  {
   "cell_type": "code",
   "execution_count": 1,
   "metadata": {},
   "outputs": [],
   "source": [
    "# DS libraries\n",
    "import numpy as np\n",
    "import pandas as pd\n",
    "import matplotlib.pyplot as plt\n",
    "\n",
    "# ML libraries\n",
    "from sklearn.naive_bayes import GaussianNB\n",
    "from sklearn.model_selection import train_test_split, StratifiedKFold\n",
    "from sklearn.preprocessing import RobustScaler, QuantileTransformer, StandardScaler\n",
    "from sklearn.metrics import *\n",
    "\n",
    "# MLOps\n",
    "import mlflow\n",
    "import mlflow.sklearn"
   ]
  },
  {
   "source": [
    "### Credit loans dataset"
   ],
   "cell_type": "markdown",
   "metadata": {}
  },
  {
   "cell_type": "code",
   "execution_count": 7,
   "metadata": {},
   "outputs": [
    {
     "output_type": "execute_result",
     "data": {
      "text/plain": [
       "(1000, 21)"
      ]
     },
     "metadata": {},
     "execution_count": 7
    }
   ],
   "source": [
    "df = pd.read_csv('./Datasets/Credit.csv')\n",
    "df.shape"
   ]
  },
  {
   "cell_type": "code",
   "execution_count": 8,
   "metadata": {},
   "outputs": [
    {
     "output_type": "execute_result",
     "data": {
      "text/plain": [
       "  checking_status  duration  ... foreign_worker class\n",
       "0              <0         6  ...            yes  good\n",
       "1        0<=X<200        48  ...            yes   bad\n",
       "2   'no checking'        12  ...            yes  good\n",
       "3              <0        42  ...            yes  good\n",
       "4              <0        24  ...            yes   bad\n",
       "\n",
       "[5 rows x 21 columns]"
      ],
      "text/html": "<div>\n<style scoped>\n    .dataframe tbody tr th:only-of-type {\n        vertical-align: middle;\n    }\n\n    .dataframe tbody tr th {\n        vertical-align: top;\n    }\n\n    .dataframe thead th {\n        text-align: right;\n    }\n</style>\n<table border=\"1\" class=\"dataframe\">\n  <thead>\n    <tr style=\"text-align: right;\">\n      <th></th>\n      <th>checking_status</th>\n      <th>duration</th>\n      <th>credit_history</th>\n      <th>purpose</th>\n      <th>credit_amount</th>\n      <th>savings_status</th>\n      <th>employment</th>\n      <th>installment_commitment</th>\n      <th>personal_status</th>\n      <th>other_parties</th>\n      <th>residence_since</th>\n      <th>property_magnitude</th>\n      <th>age</th>\n      <th>other_payment_plans</th>\n      <th>housing</th>\n      <th>existing_credits</th>\n      <th>job</th>\n      <th>num_dependents</th>\n      <th>own_telephone</th>\n      <th>foreign_worker</th>\n      <th>class</th>\n    </tr>\n  </thead>\n  <tbody>\n    <tr>\n      <th>0</th>\n      <td>&lt;0</td>\n      <td>6</td>\n      <td>'critical/other existing credit'</td>\n      <td>radio/tv</td>\n      <td>1169</td>\n      <td>'no known savings'</td>\n      <td>&gt;=7</td>\n      <td>4</td>\n      <td>'male single'</td>\n      <td>none</td>\n      <td>4</td>\n      <td>'real estate'</td>\n      <td>67</td>\n      <td>none</td>\n      <td>own</td>\n      <td>2</td>\n      <td>skilled</td>\n      <td>1</td>\n      <td>yes</td>\n      <td>yes</td>\n      <td>good</td>\n    </tr>\n    <tr>\n      <th>1</th>\n      <td>0&lt;=X&lt;200</td>\n      <td>48</td>\n      <td>'existing paid'</td>\n      <td>radio/tv</td>\n      <td>5951</td>\n      <td>&lt;100</td>\n      <td>1&lt;=X&lt;4</td>\n      <td>2</td>\n      <td>'female div/dep/mar'</td>\n      <td>none</td>\n      <td>2</td>\n      <td>'real estate'</td>\n      <td>22</td>\n      <td>none</td>\n      <td>own</td>\n      <td>1</td>\n      <td>skilled</td>\n      <td>1</td>\n      <td>none</td>\n      <td>yes</td>\n      <td>bad</td>\n    </tr>\n    <tr>\n      <th>2</th>\n      <td>'no checking'</td>\n      <td>12</td>\n      <td>'critical/other existing credit'</td>\n      <td>education</td>\n      <td>2096</td>\n      <td>&lt;100</td>\n      <td>4&lt;=X&lt;7</td>\n      <td>2</td>\n      <td>'male single'</td>\n      <td>none</td>\n      <td>3</td>\n      <td>'real estate'</td>\n      <td>49</td>\n      <td>none</td>\n      <td>own</td>\n      <td>1</td>\n      <td>'unskilled resident'</td>\n      <td>2</td>\n      <td>none</td>\n      <td>yes</td>\n      <td>good</td>\n    </tr>\n    <tr>\n      <th>3</th>\n      <td>&lt;0</td>\n      <td>42</td>\n      <td>'existing paid'</td>\n      <td>furniture/equipment</td>\n      <td>7882</td>\n      <td>&lt;100</td>\n      <td>4&lt;=X&lt;7</td>\n      <td>2</td>\n      <td>'male single'</td>\n      <td>guarantor</td>\n      <td>4</td>\n      <td>'life insurance'</td>\n      <td>45</td>\n      <td>none</td>\n      <td>'for free'</td>\n      <td>1</td>\n      <td>skilled</td>\n      <td>2</td>\n      <td>none</td>\n      <td>yes</td>\n      <td>good</td>\n    </tr>\n    <tr>\n      <th>4</th>\n      <td>&lt;0</td>\n      <td>24</td>\n      <td>'delayed previously'</td>\n      <td>'new car'</td>\n      <td>4870</td>\n      <td>&lt;100</td>\n      <td>1&lt;=X&lt;4</td>\n      <td>3</td>\n      <td>'male single'</td>\n      <td>none</td>\n      <td>4</td>\n      <td>'no known property'</td>\n      <td>53</td>\n      <td>none</td>\n      <td>'for free'</td>\n      <td>2</td>\n      <td>skilled</td>\n      <td>2</td>\n      <td>none</td>\n      <td>yes</td>\n      <td>bad</td>\n    </tr>\n  </tbody>\n</table>\n</div>"
     },
     "metadata": {},
     "execution_count": 8
    }
   ],
   "source": [
    "df.head()"
   ]
  },
  {
   "source": [
    "### Preprocessing"
   ],
   "cell_type": "markdown",
   "metadata": {}
  },
  {
   "cell_type": "code",
   "execution_count": 13,
   "metadata": {},
   "outputs": [
    {
     "output_type": "execute_result",
     "data": {
      "text/plain": [
       "   checking_status  duration  ...  foreign_worker  class\n",
       "0                2         6  ...               1      1\n",
       "1                1        48  ...               1      0\n",
       "2                0        12  ...               1      1\n",
       "3                2        42  ...               1      1\n",
       "4                2        24  ...               1      0\n",
       "\n",
       "[5 rows x 21 columns]"
      ],
      "text/html": "<div>\n<style scoped>\n    .dataframe tbody tr th:only-of-type {\n        vertical-align: middle;\n    }\n\n    .dataframe tbody tr th {\n        vertical-align: top;\n    }\n\n    .dataframe thead th {\n        text-align: right;\n    }\n</style>\n<table border=\"1\" class=\"dataframe\">\n  <thead>\n    <tr style=\"text-align: right;\">\n      <th></th>\n      <th>checking_status</th>\n      <th>duration</th>\n      <th>credit_history</th>\n      <th>purpose</th>\n      <th>credit_amount</th>\n      <th>savings_status</th>\n      <th>employment</th>\n      <th>installment_commitment</th>\n      <th>personal_status</th>\n      <th>other_parties</th>\n      <th>residence_since</th>\n      <th>property_magnitude</th>\n      <th>age</th>\n      <th>other_payment_plans</th>\n      <th>housing</th>\n      <th>existing_credits</th>\n      <th>job</th>\n      <th>num_dependents</th>\n      <th>own_telephone</th>\n      <th>foreign_worker</th>\n      <th>class</th>\n    </tr>\n  </thead>\n  <tbody>\n    <tr>\n      <th>0</th>\n      <td>2</td>\n      <td>6</td>\n      <td>1</td>\n      <td>7</td>\n      <td>1169</td>\n      <td>0</td>\n      <td>3</td>\n      <td>4</td>\n      <td>3</td>\n      <td>2</td>\n      <td>4</td>\n      <td>2</td>\n      <td>67</td>\n      <td>1</td>\n      <td>1</td>\n      <td>2</td>\n      <td>3</td>\n      <td>1</td>\n      <td>1</td>\n      <td>1</td>\n      <td>1</td>\n    </tr>\n    <tr>\n      <th>1</th>\n      <td>1</td>\n      <td>48</td>\n      <td>3</td>\n      <td>7</td>\n      <td>5951</td>\n      <td>3</td>\n      <td>0</td>\n      <td>2</td>\n      <td>0</td>\n      <td>2</td>\n      <td>2</td>\n      <td>2</td>\n      <td>22</td>\n      <td>1</td>\n      <td>1</td>\n      <td>1</td>\n      <td>3</td>\n      <td>1</td>\n      <td>0</td>\n      <td>1</td>\n      <td>0</td>\n    </tr>\n    <tr>\n      <th>2</th>\n      <td>0</td>\n      <td>12</td>\n      <td>1</td>\n      <td>4</td>\n      <td>2096</td>\n      <td>3</td>\n      <td>1</td>\n      <td>2</td>\n      <td>3</td>\n      <td>2</td>\n      <td>3</td>\n      <td>2</td>\n      <td>49</td>\n      <td>1</td>\n      <td>1</td>\n      <td>1</td>\n      <td>2</td>\n      <td>2</td>\n      <td>0</td>\n      <td>1</td>\n      <td>1</td>\n    </tr>\n    <tr>\n      <th>3</th>\n      <td>2</td>\n      <td>42</td>\n      <td>3</td>\n      <td>5</td>\n      <td>7882</td>\n      <td>3</td>\n      <td>1</td>\n      <td>2</td>\n      <td>3</td>\n      <td>1</td>\n      <td>4</td>\n      <td>0</td>\n      <td>45</td>\n      <td>1</td>\n      <td>0</td>\n      <td>1</td>\n      <td>3</td>\n      <td>2</td>\n      <td>0</td>\n      <td>1</td>\n      <td>1</td>\n    </tr>\n    <tr>\n      <th>4</th>\n      <td>2</td>\n      <td>24</td>\n      <td>2</td>\n      <td>1</td>\n      <td>4870</td>\n      <td>3</td>\n      <td>0</td>\n      <td>3</td>\n      <td>3</td>\n      <td>2</td>\n      <td>4</td>\n      <td>1</td>\n      <td>53</td>\n      <td>1</td>\n      <td>0</td>\n      <td>2</td>\n      <td>3</td>\n      <td>2</td>\n      <td>0</td>\n      <td>1</td>\n      <td>0</td>\n    </tr>\n  </tbody>\n</table>\n</div>"
     },
     "metadata": {},
     "execution_count": 13
    }
   ],
   "source": [
    "# setting object variables to categorical and replace values to their respective categories\n",
    "cat_vars = df.select_dtypes(include=['object']).columns\n",
    "for column in cat_vars:\n",
    "    df[column] = df[column].astype('category').cat.codes\n",
    "df.head()"
   ]
  },
  {
   "source": [
    "### Splitting dataset in train and test subdatasets"
   ],
   "cell_type": "markdown",
   "metadata": {}
  },
  {
   "cell_type": "code",
   "execution_count": 15,
   "metadata": {},
   "outputs": [
    {
     "output_type": "execute_result",
     "data": {
      "text/plain": [
       "array([[ 2,  6,  1, ...,  1,  1,  1],\n",
       "       [ 1, 48,  3, ...,  1,  0,  1],\n",
       "       [ 0, 12,  1, ...,  2,  0,  1],\n",
       "       ...,\n",
       "       [ 0, 12,  3, ...,  1,  0,  1],\n",
       "       [ 2, 45,  3, ...,  1,  1,  1],\n",
       "       [ 1, 45,  1, ...,  1,  0,  1]])"
      ]
     },
     "metadata": {},
     "execution_count": 15
    }
   ],
   "source": [
    "predictors = df.iloc[:, 0:-1].values\n",
    "predictors"
   ]
  },
  {
   "cell_type": "code",
   "execution_count": 17,
   "metadata": {},
   "outputs": [],
   "source": [
    "dependet_class = df.iloc[:, -1].values"
   ]
  },
  {
   "cell_type": "code",
   "execution_count": 18,
   "metadata": {},
   "outputs": [],
   "source": [
    "X_train, X_test, y_train, y_test = train_test_split(predictors, dependet_class, test_size=0.2, random_state=42)"
   ]
  },
  {
   "source": [
    "### Creating Naive Bayes model"
   ],
   "cell_type": "markdown",
   "metadata": {}
  },
  {
   "cell_type": "code",
   "execution_count": 21,
   "metadata": {},
   "outputs": [
    {
     "output_type": "execute_result",
     "data": {
      "text/plain": [
       "GaussianNB()"
      ]
     },
     "metadata": {},
     "execution_count": 21
    }
   ],
   "source": [
    "model = GaussianNB()\n",
    "model.fit(X_train, y_train)"
   ]
  },
  {
   "source": [
    "### Making predictions with the trained model"
   ],
   "cell_type": "markdown",
   "metadata": {}
  },
  {
   "cell_type": "code",
   "execution_count": 23,
   "metadata": {},
   "outputs": [],
   "source": [
    "predict_values = model.predict(X_test)"
   ]
  },
  {
   "cell_type": "code",
   "execution_count": 25,
   "metadata": {},
   "outputs": [
    {
     "output_type": "execute_result",
     "data": {
      "text/plain": [
       "        bad      good\n",
       "0  0.394741  0.605259\n",
       "1  0.296483  0.703517\n",
       "2  0.564212  0.435788\n",
       "3  0.480816  0.519184\n",
       "4  0.404758  0.595242"
      ],
      "text/html": "<div>\n<style scoped>\n    .dataframe tbody tr th:only-of-type {\n        vertical-align: middle;\n    }\n\n    .dataframe tbody tr th {\n        vertical-align: top;\n    }\n\n    .dataframe thead th {\n        text-align: right;\n    }\n</style>\n<table border=\"1\" class=\"dataframe\">\n  <thead>\n    <tr style=\"text-align: right;\">\n      <th></th>\n      <th>bad</th>\n      <th>good</th>\n    </tr>\n  </thead>\n  <tbody>\n    <tr>\n      <th>0</th>\n      <td>0.394741</td>\n      <td>0.605259</td>\n    </tr>\n    <tr>\n      <th>1</th>\n      <td>0.296483</td>\n      <td>0.703517</td>\n    </tr>\n    <tr>\n      <th>2</th>\n      <td>0.564212</td>\n      <td>0.435788</td>\n    </tr>\n    <tr>\n      <th>3</th>\n      <td>0.480816</td>\n      <td>0.519184</td>\n    </tr>\n    <tr>\n      <th>4</th>\n      <td>0.404758</td>\n      <td>0.595242</td>\n    </tr>\n  </tbody>\n</table>\n</div>"
     },
     "metadata": {},
     "execution_count": 25
    }
   ],
   "source": [
    "predict_values_prob = model.predict_proba(X_test)\n",
    "df_prob = pd.DataFrame(predict_values_prob, columns=['bad', 'good'])\n",
    "df_prob.head()"
   ]
  },
  {
   "source": [
    "### Performance Analysis - Metrics"
   ],
   "cell_type": "markdown",
   "metadata": {}
  },
  {
   "cell_type": "code",
   "execution_count": 28,
   "metadata": {},
   "outputs": [],
   "source": [
    "acc = accuracy_score(y_test, predict_values)\n",
    "ps = precision_score(y_test, predict_values)\n",
    "rc = recall_score(y_test, predict_values)\n",
    "fs = f1_score(y_test, predict_values)"
   ]
  },
  {
   "cell_type": "code",
   "execution_count": 49,
   "metadata": {},
   "outputs": [
    {
     "output_type": "stream",
     "name": "stdout",
     "text": [
      "Accuracy: 0.71% \nPrecision: 0.78% \nRecall: 0.83% \nF1-score: 0.80% \n\n"
     ]
    }
   ],
   "source": [
    "print(\"Accuracy: {:.2f}% \\nPrecision: {:.2f}% \\nRecall: {:.2f}% \\nF1-score: {:.2f}% \\n\".format(acc, ps, rc, fs))"
   ]
  }
 ]
}